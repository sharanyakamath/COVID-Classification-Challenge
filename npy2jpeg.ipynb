{
 "cells": [
  {
   "cell_type": "code",
   "execution_count": 1,
   "metadata": {},
   "outputs": [],
   "source": [
    "import numpy as np\n",
    "from PIL import Image\n"
   ]
  },
  {
   "cell_type": "code",
   "execution_count": 7,
   "metadata": {},
   "outputs": [],
   "source": [
    "I = np.load('trainx.npy')\n",
    "L = np.load('trainy.npy')"
   ]
  },
  {
   "cell_type": "code",
   "execution_count": 8,
   "metadata": {},
   "outputs": [
    {
     "data": {
      "text/plain": [
       "(1076, 300, 300, 3)"
      ]
     },
     "execution_count": 8,
     "metadata": {},
     "output_type": "execute_result"
    }
   ],
   "source": [
    "I.shape"
   ]
  },
  {
   "cell_type": "code",
   "execution_count": 17,
   "metadata": {},
   "outputs": [],
   "source": [
    "cnt = 0\n",
    "for i in I:\n",
    "#     im = Image.fromarray((i * 255).astype(np.uint8))\n",
    "    im = Image.fromarray(i)\n",
    "    if(L[cnt]==0):\n",
    "        im.save(\"train/normal/covid\" + str(cnt) + \".jpeg\", \"JPEG\")\n",
    "    elif(L[cnt]==1):\n",
    "        im.save(\"train/normal/normal\" + str(cnt) + \".jpeg\", \"JPEG\")\n",
    "    else:\n",
    "        im.save(\"train/pneumonia/pneumonia\" + str(cnt) + \".jpeg\", \"JPEG\")\n",
    "\n",
    "    cnt += 1"
   ]
  },
  {
   "cell_type": "code",
   "execution_count": null,
   "metadata": {},
   "outputs": [],
   "source": []
  }
 ],
 "metadata": {
  "kernelspec": {
   "display_name": "Python 3",
   "language": "python",
   "name": "python3"
  },
  "language_info": {
   "codemirror_mode": {
    "name": "ipython",
    "version": 3
   },
   "file_extension": ".py",
   "mimetype": "text/x-python",
   "name": "python",
   "nbconvert_exporter": "python",
   "pygments_lexer": "ipython3",
   "version": "3.7.3"
  }
 },
 "nbformat": 4,
 "nbformat_minor": 2
}
