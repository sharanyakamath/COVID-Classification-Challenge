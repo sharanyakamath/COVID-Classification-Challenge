{
 "cells": [
  {
   "cell_type": "code",
   "execution_count": 1,
   "metadata": {},
   "outputs": [
    {
     "name": "stderr",
     "output_type": "stream",
     "text": [
      "Using TensorFlow backend.\n",
      "/home/sharanya/snap/jupyter/common/lib/python3.7/site-packages/joblib/_multiprocessing_helpers.py:45: UserWarning: [Errno 13] Permission denied.  joblib will operate in serial mode\n",
      "  warnings.warn('%s.  joblib will operate in serial mode' % (e,))\n"
     ]
    }
   ],
   "source": [
    "from keras.preprocessing.image import ImageDataGenerator\n",
    "from keras.models import Sequential\n",
    "from keras.layers import Conv2D, MaxPooling2D\n",
    "from keras.layers import Activation, Dropout, Flatten, Dense\n",
    "from keras import backend as K\n",
    "import keras_metrics as km\n",
    "import numpy as np\n",
    "from sklearn.metrics import classification_report, confusion_matrix\n",
    "import sys\n",
    "import keras\n",
    "from keras.models import load_model\n",
    "import pandas as pd\n",
    "from keras.wrappers.scikit_learn import KerasClassifier\n",
    "from keras.utils import np_utils\n",
    "from sklearn.preprocessing import LabelEncoder\n",
    "from sklearn.model_selection import KFold\n",
    "from sklearn.model_selection import cross_val_score\n",
    "np.set_printoptions(threshold=sys.maxsize)\n",
    "\n"
   ]
  },
  {
   "cell_type": "code",
   "execution_count": 2,
   "metadata": {},
   "outputs": [],
   "source": [
    "x_train0 = np.load(\"npydata/trainx0.npy\")\n",
    "x_train1 = np.load(\"npydata/trainx1.npy\")\n",
    "x_train2 = np.load(\"npydata/trainx2.npy\")"
   ]
  },
  {
   "cell_type": "code",
   "execution_count": 3,
   "metadata": {},
   "outputs": [],
   "source": [
    "x_train0 = x_train0.reshape(1076, 300,300, 3).astype('float16') / 255\n",
    "x_train1 = x_train1.reshape(1072, 300,300, 3).astype('float16') / 255\n",
    "x_train2 = x_train0.reshape(1076, 300,300, 3).astype('float16') / 255"
   ]
  },
  {
   "cell_type": "code",
   "execution_count": 4,
   "metadata": {},
   "outputs": [],
   "source": [
    "x_test0 = x_train0[:269]\n",
    "y_test0 = np.zeros(269)\n",
    "\n",
    "x_val0 = x_train0[269:430]\n",
    "y_val0 = np.zeros(161)\n",
    "\n",
    "x_train0 = x_train0[430:]\n",
    "y_train0 = np.zeros(646)"
   ]
  },
  {
   "cell_type": "code",
   "execution_count": 5,
   "metadata": {},
   "outputs": [],
   "source": [
    "x_test1 = x_train1[:269]\n",
    "y_test1 = np.ones(269)\n",
    "\n",
    "x_val1 = x_train1[269:430]\n",
    "y_val1 = np.ones(161)\n",
    "\n",
    "x_train1 = x_train1[430:]\n",
    "y_train1 = np.ones(642)"
   ]
  },
  {
   "cell_type": "code",
   "execution_count": 6,
   "metadata": {},
   "outputs": [],
   "source": [
    "x_test2 = x_train2[:269]\n",
    "y_test2 = np.ones(269) * 2\n",
    "\n",
    "x_val2 = x_train2[269:430]\n",
    "y_val2 = np.ones(161) * 2\n",
    "\n",
    "x_train2 = x_train2[430:]\n",
    "y_train2 = np.ones(646) * 2"
   ]
  },
  {
   "cell_type": "code",
   "execution_count": 7,
   "metadata": {},
   "outputs": [],
   "source": [
    "x_vali = np.append(x_val0, x_val1, axis=0)\n",
    "x_val = np.append(x_vali, x_val2, axis=0)\n",
    "\n",
    "x_testi = np.append(x_test0, x_test1, axis=0)\n",
    "x_test = np.append(x_testi, x_test2, axis=0)\n",
    "\n",
    "x_traini = np.append(x_train0, x_train1, axis=0)\n",
    "x_train = np.append(x_traini, x_train2, axis=0)\n",
    "\n",
    "\n",
    "y_vali = np.append(y_val0, y_val1, axis=0)\n",
    "y_val = np.append(y_vali, y_val2, axis=0)\n",
    "\n",
    "y_testi = np.append(y_test0, y_test1, axis=0)\n",
    "y_test = np.append(y_testi, y_test2, axis=0)\n",
    "\n",
    "y_traini = np.append(y_train0, y_train1, axis=0)\n",
    "y_train = np.append(y_traini, y_train2, axis=0)"
   ]
  },
  {
   "cell_type": "code",
   "execution_count": 8,
   "metadata": {},
   "outputs": [
    {
     "name": "stdout",
     "output_type": "stream",
     "text": [
      "(483, 300, 300, 3)\n",
      "(807, 300, 300, 3)\n",
      "(1934, 300, 300, 3)\n",
      "(483,)\n",
      "(807,)\n",
      "(1934,)\n"
     ]
    }
   ],
   "source": [
    "print(x_val.shape)\n",
    "print(x_test.shape)\n",
    "print(x_train.shape)\n",
    "\n",
    "print(y_val.shape)\n",
    "print(y_test.shape)\n",
    "print(y_train.shape)"
   ]
  },
  {
   "cell_type": "code",
   "execution_count": 9,
   "metadata": {},
   "outputs": [],
   "source": [
    "encoder = LabelEncoder()\n",
    "encoder.fit(y_val)\n",
    "encoded_Y = encoder.transform(y_val)\n",
    "y_val_enc = np_utils.to_categorical(encoded_Y)"
   ]
  },
  {
   "cell_type": "code",
   "execution_count": 10,
   "metadata": {},
   "outputs": [],
   "source": [
    "encoder = LabelEncoder()\n",
    "encoder.fit(y_test)\n",
    "encoded_Y = encoder.transform(y_test)\n",
    "y_test_enc = np_utils.to_categorical(encoded_Y)"
   ]
  },
  {
   "cell_type": "code",
   "execution_count": 11,
   "metadata": {},
   "outputs": [],
   "source": [
    "encoder = LabelEncoder()\n",
    "encoder.fit(y_train)\n",
    "encoded_Y = encoder.transform(y_train)\n",
    "y_train_enc = np_utils.to_categorical(encoded_Y)"
   ]
  },
  {
   "cell_type": "code",
   "execution_count": 2,
   "metadata": {},
   "outputs": [],
   "source": [
    "if K.image_data_format() == 'channels_first':\n",
    "    input_shape = (3, 300, 300)\n",
    "else:\n",
    "    input_shape = (300, 300, 3)"
   ]
  },
  {
   "cell_type": "code",
   "execution_count": 3,
   "metadata": {},
   "outputs": [],
   "source": [
    "model = Sequential()\n",
    "model.add(Conv2D(32, (3, 3), input_shape=input_shape))\n",
    "model.add(Activation('relu'))\n",
    "model.add(MaxPooling2D(pool_size=(2, 2)))\n",
    "\n",
    "model.add(Conv2D(32, (3, 3)))\n",
    "model.add(Activation('relu'))\n",
    "model.add(MaxPooling2D(pool_size=(2, 2)))\n",
    "\n",
    "model.add(Conv2D(64, (3, 3)))\n",
    "model.add(Activation('relu'))\n",
    "model.add(MaxPooling2D(pool_size=(2, 2)))\n",
    "\n",
    "model.add(Flatten())\n",
    "model.add(Dense(64))\n",
    "model.add(Activation('relu'))\n",
    "model.add(Dropout(0.5))\n",
    "model.add(Dense(3))\n",
    "model.add(Activation('softmax'))\n",
    "\n",
    "model.compile(loss='categorical_crossentropy', optimizer='adam', metrics=['categorical_accuracy', 'accuracy'])\n"
   ]
  },
  {
   "cell_type": "code",
   "execution_count": 14,
   "metadata": {},
   "outputs": [
    {
     "name": "stdout",
     "output_type": "stream",
     "text": [
      "Train on 1934 samples, validate on 483 samples\n",
      "Epoch 1/20\n",
      "1934/1934 [==============================] - 313s 162ms/step - loss: 0.6740 - categorical_accuracy: 0.6784 - accuracy: 0.6784 - val_loss: 0.1772 - val_categorical_accuracy: 0.9855 - val_accuracy: 0.9855\n",
      "Epoch 2/20\n",
      "1934/1934 [==============================] - 176s 91ms/step - loss: 0.1354 - categorical_accuracy: 0.9617 - accuracy: 0.9617 - val_loss: 0.0338 - val_categorical_accuracy: 0.9896 - val_accuracy: 0.9896\n",
      "Epoch 3/20\n",
      "1934/1934 [==============================] - 185s 96ms/step - loss: 0.0636 - categorical_accuracy: 0.9767 - accuracy: 0.9767 - val_loss: 0.0282 - val_categorical_accuracy: 0.9876 - val_accuracy: 0.9876\n",
      "Epoch 4/20\n",
      "1934/1934 [==============================] - 195s 101ms/step - loss: 0.0456 - categorical_accuracy: 0.9886 - accuracy: 0.9886 - val_loss: 0.0408 - val_categorical_accuracy: 0.9855 - val_accuracy: 0.9855\n",
      "Epoch 5/20\n",
      "1934/1934 [==============================] - 200s 103ms/step - loss: 0.0474 - categorical_accuracy: 0.9860 - accuracy: 0.9860 - val_loss: 0.0244 - val_categorical_accuracy: 0.9896 - val_accuracy: 0.9896\n",
      "Epoch 6/20\n",
      "1934/1934 [==============================] - 199s 103ms/step - loss: 0.0251 - categorical_accuracy: 0.9938 - accuracy: 0.9938 - val_loss: 0.0207 - val_categorical_accuracy: 0.9876 - val_accuracy: 0.9876\n",
      "Epoch 7/20\n",
      "1934/1934 [==============================] - 200s 103ms/step - loss: 0.0249 - categorical_accuracy: 0.9922 - accuracy: 0.9922 - val_loss: 0.0309 - val_categorical_accuracy: 0.9917 - val_accuracy: 0.9917\n",
      "Epoch 8/20\n",
      "1934/1934 [==============================] - 199s 103ms/step - loss: 0.0292 - categorical_accuracy: 0.9928 - accuracy: 0.9928 - val_loss: 0.0105 - val_categorical_accuracy: 0.9938 - val_accuracy: 0.9938\n",
      "Epoch 9/20\n",
      "1934/1934 [==============================] - 200s 103ms/step - loss: 0.0183 - categorical_accuracy: 0.9948 - accuracy: 0.9948 - val_loss: 0.0313 - val_categorical_accuracy: 0.9876 - val_accuracy: 0.9876\n",
      "Epoch 10/20\n",
      "1934/1934 [==============================] - 199s 103ms/step - loss: 0.0216 - categorical_accuracy: 0.9933 - accuracy: 0.9933 - val_loss: 0.0407 - val_categorical_accuracy: 0.9896 - val_accuracy: 0.9896\n",
      "Epoch 11/20\n",
      "1934/1934 [==============================] - 200s 103ms/step - loss: 0.0248 - categorical_accuracy: 0.9922 - accuracy: 0.9922 - val_loss: 0.0112 - val_categorical_accuracy: 0.9959 - val_accuracy: 0.9959\n",
      "Epoch 12/20\n",
      "1934/1934 [==============================] - 199s 103ms/step - loss: 0.0164 - categorical_accuracy: 0.9964 - accuracy: 0.9964 - val_loss: 0.0122 - val_categorical_accuracy: 0.9959 - val_accuracy: 0.9959\n",
      "Epoch 13/20\n",
      "1934/1934 [==============================] - 199s 103ms/step - loss: 0.0139 - categorical_accuracy: 0.9953 - accuracy: 0.9953 - val_loss: 0.0226 - val_categorical_accuracy: 0.9896 - val_accuracy: 0.9896\n",
      "Epoch 14/20\n",
      "1934/1934 [==============================] - 202s 105ms/step - loss: 0.3515 - categorical_accuracy: 0.9188 - accuracy: 0.9188 - val_loss: 0.0235 - val_categorical_accuracy: 0.9938 - val_accuracy: 0.9938\n",
      "Epoch 15/20\n",
      "1934/1934 [==============================] - 199s 103ms/step - loss: 0.0400 - categorical_accuracy: 0.9829 - accuracy: 0.9829 - val_loss: 0.0308 - val_categorical_accuracy: 0.9876 - val_accuracy: 0.9876\n",
      "Epoch 16/20\n",
      "1934/1934 [==============================] - 250s 129ms/step - loss: 0.0202 - categorical_accuracy: 0.9933 - accuracy: 0.9933 - val_loss: 0.0119 - val_categorical_accuracy: 0.9959 - val_accuracy: 0.9959\n",
      "Epoch 17/20\n",
      "1934/1934 [==============================] - 199s 103ms/step - loss: 0.0169 - categorical_accuracy: 0.9948 - accuracy: 0.9948 - val_loss: 0.0099 - val_categorical_accuracy: 0.9959 - val_accuracy: 0.9959\n",
      "Epoch 18/20\n",
      "1934/1934 [==============================] - 199s 103ms/step - loss: 0.0138 - categorical_accuracy: 0.9953 - accuracy: 0.9953 - val_loss: 0.0115 - val_categorical_accuracy: 0.9917 - val_accuracy: 0.9917\n",
      "Epoch 19/20\n",
      "1934/1934 [==============================] - 199s 103ms/step - loss: 0.0124 - categorical_accuracy: 0.9938 - accuracy: 0.9938 - val_loss: 0.0143 - val_categorical_accuracy: 0.9938 - val_accuracy: 0.9938\n",
      "Epoch 20/20\n",
      "1934/1934 [==============================] - 199s 103ms/step - loss: 0.0103 - categorical_accuracy: 0.9974 - accuracy: 0.9974 - val_loss: 0.0097 - val_categorical_accuracy: 0.9938 - val_accuracy: 0.9938\n"
     ]
    },
    {
     "data": {
      "text/plain": [
       "<keras.callbacks.callbacks.History at 0x7fe7b0e4c668>"
      ]
     },
     "execution_count": 14,
     "metadata": {},
     "output_type": "execute_result"
    }
   ],
   "source": [
    "model.fit(x_train,\n",
    "    y_train_enc,\n",
    "    epochs=20,\n",
    "    batch_size=64,\n",
    "    validation_data=(x_val,y_val_enc))"
   ]
  },
  {
   "cell_type": "code",
   "execution_count": 15,
   "metadata": {},
   "outputs": [],
   "source": [
    "model.save(\"model2.h5\")"
   ]
  },
  {
   "cell_type": "code",
   "execution_count": 16,
   "metadata": {},
   "outputs": [
    {
     "name": "stdout",
     "output_type": "stream",
     "text": [
      "807/807 [==============================] - 23s 29ms/step\n",
      "test loss, test acc: [0.0345439207635322, 0.9913259148597717, 0.9913259148597717]\n"
     ]
    }
   ],
   "source": [
    "results = model.evaluate(x_test, y_test_enc, batch_size=128)\n",
    "print('test loss, test acc:', results)"
   ]
  },
  {
   "cell_type": "code",
   "execution_count": 17,
   "metadata": {},
   "outputs": [],
   "source": [
    "# np.save('x_train.npy',x_train)\n",
    "# np.save('x_test.npy',x_test)\n",
    "# np.save('x_val.npy',x_val)"
   ]
  },
  {
   "cell_type": "code",
   "execution_count": 18,
   "metadata": {},
   "outputs": [],
   "source": [
    "# np.save('y_train_enc.npy',y_train_enc)\n",
    "# np.save('y_test_enc.npy',y_test_enc)\n",
    "# np.save('y_val_enc.npy',y_val_enc)\n",
    "\n",
    "# np.save('y_train.npy',y_train)\n",
    "# np.save('y_test.npy',y_test)\n",
    "# np.save('y_val.npy',y_val)"
   ]
  },
  {
   "cell_type": "code",
   "execution_count": 19,
   "metadata": {},
   "outputs": [],
   "source": [
    "y_pred = model.predict(x_test)"
   ]
  },
  {
   "cell_type": "code",
   "execution_count": 20,
   "metadata": {},
   "outputs": [],
   "source": [
    "Y_pred = np.argmax(y_pred, axis=1)"
   ]
  },
  {
   "cell_type": "code",
   "execution_count": 21,
   "metadata": {},
   "outputs": [
    {
     "name": "stdout",
     "output_type": "stream",
     "text": [
      "[[262   7   0]\n",
      " [  0 269   0]\n",
      " [  0   0 269]]\n"
     ]
    }
   ],
   "source": [
    "from sklearn.metrics import classification_report, confusion_matrix\n",
    "print(confusion_matrix(y_test, Y_pred))"
   ]
  },
  {
   "cell_type": "code",
   "execution_count": 22,
   "metadata": {},
   "outputs": [
    {
     "name": "stdout",
     "output_type": "stream",
     "text": [
      "              precision    recall  f1-score   support\n",
      "\n",
      "       covid       1.00      0.97      0.99       269\n",
      "      normal       0.97      1.00      0.99       269\n",
      "   pneumonia       1.00      1.00      1.00       269\n",
      "\n",
      "    accuracy                           0.99       807\n",
      "   macro avg       0.99      0.99      0.99       807\n",
      "weighted avg       0.99      0.99      0.99       807\n",
      "\n"
     ]
    }
   ],
   "source": [
    "target_names = ['covid', 'normal', 'pneumonia']\n",
    "print(classification_report(y_test, Y_pred, target_names=target_names))\n"
   ]
  },
  {
   "cell_type": "code",
   "execution_count": null,
   "metadata": {},
   "outputs": [],
   "source": []
  }
 ],
 "metadata": {
  "kernelspec": {
   "display_name": "Python 3",
   "language": "python",
   "name": "python3"
  },
  "language_info": {
   "codemirror_mode": {
    "name": "ipython",
    "version": 3
   },
   "file_extension": ".py",
   "mimetype": "text/x-python",
   "name": "python",
   "nbconvert_exporter": "python",
   "pygments_lexer": "ipython3",
   "version": "3.7.4"
  }
 },
 "nbformat": 4,
 "nbformat_minor": 2
}
