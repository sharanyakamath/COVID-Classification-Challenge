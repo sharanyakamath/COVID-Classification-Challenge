{
 "cells": [
  {
   "cell_type": "code",
   "execution_count": 1,
   "metadata": {},
   "outputs": [
    {
     "name": "stderr",
     "output_type": "stream",
     "text": [
      "Using TensorFlow backend.\n"
     ]
    }
   ],
   "source": [
    "import os, sys\n",
    "from IPython.display import display\n",
    "from IPython.display import Image as _Imgdis\n",
    "from PIL import Image\n",
    "import numpy as np\n",
    "from time import time\n",
    "from time import sleep\n",
    "from scipy import ndimage\n",
    "from keras.preprocessing.image import ImageDataGenerator, array_to_img, img_to_array, load_img\n"
   ]
  },
  {
   "cell_type": "code",
   "execution_count": 3,
   "metadata": {},
   "outputs": [
    {
     "name": "stdout",
     "output_type": "stream",
     "text": [
      "Files in train_files: 1076\n",
      "1076 images to array\n"
     ]
    }
   ],
   "source": [
    "folder = \"/home/sharanya/Assignment2/Train_Data/augment/covid\"\n",
    "onlyfiles = [f for f in os.listdir(folder) if os.path.isfile(os.path.join(folder, f))]\n",
    "\n",
    "train_files = []\n",
    "y_train = []\n",
    "i=0\n",
    "for _file in onlyfiles:\n",
    "    train_files.append(_file)\n",
    "\n",
    "print(\"Files in train_files: %d\" % len(train_files))\n",
    "image_width = 300\n",
    "image_height = 300\n",
    "ratio = 1\n",
    "image_width = int(image_width / ratio)\n",
    "image_height = int(image_height / ratio)\n",
    "\n",
    "channels = 3\n",
    "nb_classes = 1\n",
    "\n",
    "dataset = np.ndarray(shape=(len(train_files), channels, image_height, image_width),\n",
    "                     dtype=np.float16)\n",
    "\n",
    "i = 0\n",
    "for _file in train_files:\n",
    "    img = load_img(folder + \"/\" + _file)\n",
    "    img.thumbnail((image_width, image_height))\n",
    "    x = img_to_array(img)  \n",
    "    x = x.reshape((3, 300, 300))\n",
    "    x = (x - 128.0) / 128.0\n",
    "    dataset[i] = x\n",
    "    i += 1\n",
    "    if i % 1076 == 0:\n",
    "        print(\"%d images to array\" % i)"
   ]
  },
  {
   "cell_type": "code",
   "execution_count": 6,
   "metadata": {},
   "outputs": [
    {
     "name": "stdout",
     "output_type": "stream",
     "text": [
      "Files in train_files: 1072\n",
      "1072 images to array\n"
     ]
    }
   ],
   "source": [
    "folder = \"/home/sharanya/Assignment2/Train_Data/augment/normal\"\n",
    "\n",
    "onlyfiles = [f for f in os.listdir(folder) if os.path.isfile(os.path.join(folder, f))]\n",
    "\n",
    "train_files = []\n",
    "y_train = []\n",
    "i=0\n",
    "for _file in onlyfiles:\n",
    "    train_files.append(_file)\n",
    "    # label_in_file = _file.find(\"_\")\n",
    "    # y_train.append(int(_file[0:label_in_file]))\n",
    "    \n",
    "print(\"Files in train_files: %d\" % len(train_files))\n",
    "\n",
    "# Original Dimensions\n",
    "image_width = 300\n",
    "image_height = 300\n",
    "ratio = 1\n",
    "\n",
    "image_width = int(image_width / ratio)\n",
    "image_height = int(image_height / ratio)\n",
    "\n",
    "channels = 3\n",
    "nb_classes = 1\n",
    "\n",
    "dataset1 = np.ndarray(shape=(len(train_files), channels, image_height, image_width),\n",
    "                     dtype=np.float16)\n",
    "\n",
    "i = 0\n",
    "for _file in train_files:\n",
    "    img = load_img(folder + \"/\" + _file)\n",
    "    img.thumbnail((image_width, image_height))\n",
    "    y = img_to_array(img)  \n",
    "    y = y.reshape((3, 300, 300))\n",
    "    y = (y - 128.0) / 128.0\n",
    "    dataset1[i] = y\n",
    "    i += 1\n",
    "    if i % 1072 == 0:\n",
    "        print(\"%d images to array\" % i)\n"
   ]
  },
  {
   "cell_type": "code",
   "execution_count": 8,
   "metadata": {},
   "outputs": [
    {
     "name": "stdout",
     "output_type": "stream",
     "text": [
      "Files in train_files: 1076\n",
      "1076 images to array\n"
     ]
    }
   ],
   "source": [
    "folder = \"/home/sharanya/Assignment2/Train_Data/augment/pneumonia\"\n",
    "\n",
    "onlyfiles = [f for f in os.listdir(folder) if os.path.isfile(os.path.join(folder, f))]\n",
    "\n",
    "train_files = []\n",
    "y_train = []\n",
    "i=0\n",
    "for _file in onlyfiles:\n",
    "    train_files.append(_file)\n",
    "    # label_in_file = _file.find(\"_\")\n",
    "    # y_train.append(int(_file[0:label_in_file]))\n",
    "    \n",
    "print(\"Files in train_files: %d\" % len(train_files))\n",
    "\n",
    "# Original Dimensions\n",
    "image_width = 300\n",
    "image_height = 300\n",
    "ratio = 1\n",
    "\n",
    "image_width = int(image_width / ratio)\n",
    "image_height = int(image_height / ratio)\n",
    "\n",
    "channels = 3\n",
    "nb_classes = 1\n",
    "\n",
    "dataset2 = np.ndarray(shape=(len(train_files), channels, image_height, image_width),\n",
    "                     dtype=np.float16)\n",
    "\n",
    "i = 0\n",
    "for _file in train_files:\n",
    "    img = load_img(folder + \"/\" + _file)\n",
    "    img.thumbnail((image_width, image_height))\n",
    "    y = img_to_array(img)  \n",
    "    y = y.reshape((3, 300, 300))\n",
    "    y = (y - 128.0) / 128.0\n",
    "    dataset2[i] = y\n",
    "    i += 1\n",
    "    if i % 1076 == 0:\n",
    "        print(\"%d images to array\" % i)\n"
   ]
  },
  {
   "cell_type": "code",
   "execution_count": 9,
   "metadata": {},
   "outputs": [],
   "source": [
    "np.save('trainx0.npy',dataset)\n",
    "np.save('trainx1.npy',dataset1)\n",
    "np.save('trainx2.npy',dataset2)"
   ]
  },
  {
   "cell_type": "code",
   "execution_count": 12,
   "metadata": {},
   "outputs": [
    {
     "data": {
      "text/plain": [
       "(1076, 3, 300, 300)"
      ]
     },
     "execution_count": 12,
     "metadata": {},
     "output_type": "execute_result"
    }
   ],
   "source": [
    "dataset.shape"
   ]
  },
  {
   "cell_type": "code",
   "execution_count": null,
   "metadata": {},
   "outputs": [],
   "source": []
  }
 ],
 "metadata": {
  "kernelspec": {
   "display_name": "Python 3",
   "language": "python",
   "name": "python3"
  },
  "language_info": {
   "codemirror_mode": {
    "name": "ipython",
    "version": 3
   },
   "file_extension": ".py",
   "mimetype": "text/x-python",
   "name": "python",
   "nbconvert_exporter": "python",
   "pygments_lexer": "ipython3",
   "version": "3.7.3"
  }
 },
 "nbformat": 4,
 "nbformat_minor": 2
}
