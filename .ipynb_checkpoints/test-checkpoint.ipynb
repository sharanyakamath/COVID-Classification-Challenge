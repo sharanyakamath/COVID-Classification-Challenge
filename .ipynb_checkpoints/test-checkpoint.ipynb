{
 "cells": [
  {
   "cell_type": "code",
   "execution_count": 1,
   "metadata": {},
   "outputs": [
    {
     "name": "stderr",
     "output_type": "stream",
     "text": [
      "/home/sharanya/snap/jupyter/common/lib/python3.7/site-packages/joblib/_multiprocessing_helpers.py:45: UserWarning: [Errno 13] Permission denied.  joblib will operate in serial mode\n",
      "  warnings.warn('%s.  joblib will operate in serial mode' % (e,))\n",
      "Using TensorFlow backend.\n"
     ]
    }
   ],
   "source": [
    "import numpy as np\n",
    "from sklearn.metrics import classification_report, confusion_matrix\n",
    "from keras.models import load_model\n",
    "from keras.preprocessing.image import img_to_array\n",
    "from sklearn.preprocessing import LabelEncoder\n",
    "from PIL import Image\n",
    "from keras.utils import np_utils\n"
   ]
  },
  {
   "cell_type": "code",
   "execution_count": 9,
   "metadata": {},
   "outputs": [],
   "source": [
    "model = load_model('model.h5')\n",
    "\n",
    "x_test = np.load('npydata/x_test.npy')\n",
    "y_test = np.load('npydata/y_test.npy')"
   ]
  },
  {
   "cell_type": "code",
   "execution_count": 3,
   "metadata": {},
   "outputs": [],
   "source": [
    "# RESIZING TEST IMAGES TO (300,300)\n",
    "\n",
    "image_height = 300\n",
    "image_width = 300\n",
    "channels = 3\n",
    "dataset = np.ndarray(shape=(len(x_test), image_height, image_width, channels),\n",
    "                     dtype=np.float16)\n",
    "cnt = 0\n",
    "for i in x_test:\n",
    "    im = Image.fromarray(i)\n",
    "    img = im.resize((image_height,image_width))\n",
    "    img.thumbnail((image_height, image_width))\n",
    "    x = img_to_array(img)\n",
    "    x = x.reshape((image_height, image_width, channels))\n",
    "    x = (x - 128.0) / 128.0\n",
    "    dataset[cnt] = x\n",
    "    cnt += 1\n",
    "    \n",
    "np.save('x_test_resized.npy',dataset)\n",
    "x_test_resized = np.load('x_test_resized.npy')"
   ]
  },
  {
   "cell_type": "code",
   "execution_count": 4,
   "metadata": {},
   "outputs": [],
   "source": [
    "# for a in x_test_resized:\n",
    "#     im = Image.fromarray((a * 255).astype(np.uint8))\n",
    "#     im.save(\"example.jpg\")\n",
    "#     break"
   ]
  },
  {
   "cell_type": "code",
   "execution_count": 5,
   "metadata": {},
   "outputs": [],
   "source": [
    "encoder = LabelEncoder()\n",
    "encoder.fit(y_test)\n",
    "encoded_Y = encoder.transform(y_test)\n",
    "y_test_enc = np_utils.to_categorical(encoded_Y)"
   ]
  },
  {
   "cell_type": "code",
   "execution_count": 10,
   "metadata": {},
   "outputs": [
    {
     "name": "stdout",
     "output_type": "stream",
     "text": [
      "\n",
      "# Evaluate on test data\n",
      "807/807 [==============================] - 17s 21ms/step\n",
      "test loss, test acc: [0.14639001246426334, 0.9516728520393372, 0.9516728520393372]\n"
     ]
    }
   ],
   "source": [
    "print('\\n# Evaluate on test data')\n",
    "results = model.evaluate(x_test_resized, y_test_enc, batch_size=128)\n",
    "print('test loss, test acc:', results)"
   ]
  },
  {
   "cell_type": "code",
   "execution_count": 13,
   "metadata": {},
   "outputs": [
    {
     "name": "stdout",
     "output_type": "stream",
     "text": [
      "\n",
      " Generate predictions for test samples\n"
     ]
    }
   ],
   "source": [
    "print('\\n Generate predictions for test samples')\n",
    "y_pred = model.predict(x_test_resized)\n",
    "Y_pred = np.argmax(y_pred, axis=1)"
   ]
  },
  {
   "cell_type": "code",
   "execution_count": 17,
   "metadata": {},
   "outputs": [
    {
     "name": "stdout",
     "output_type": "stream",
     "text": [
      "Confusion Matrix\n",
      "[[257   2  10]\n",
      " [  0 245  24]\n",
      " [  0   3 266]]\n"
     ]
    }
   ],
   "source": [
    "print('Confusion Matrix')\n",
    "print(confusion_matrix(y_test, Y_pred))\n"
   ]
  },
  {
   "cell_type": "code",
   "execution_count": 18,
   "metadata": {},
   "outputs": [
    {
     "name": "stdout",
     "output_type": "stream",
     "text": [
      "Classification Report\n",
      "              precision    recall  f1-score   support\n",
      "\n",
      "       covid       1.00      0.96      0.98       269\n",
      "      normal       0.98      0.91      0.94       269\n",
      "   pneumonia       0.89      0.99      0.93       269\n",
      "\n",
      "    accuracy                           0.95       807\n",
      "   macro avg       0.96      0.95      0.95       807\n",
      "weighted avg       0.96      0.95      0.95       807\n",
      "\n"
     ]
    }
   ],
   "source": [
    "print('Classification Report')\n",
    "target_names = ['covid', 'normal', 'pneumonia']\n",
    "print(classification_report(y_test, Y_pred, target_names=target_names))"
   ]
  },
  {
   "cell_type": "code",
   "execution_count": null,
   "metadata": {},
   "outputs": [],
   "source": [
    "from sklearn.metrics import roc_auc_score\n",
    "print(\"\\nROC-AUC Score:\\n\")\n",
    "print(roc_auc_score(y_test_enc,y_pred_enc))\n",
    "import matplotlib.pyplot as plt\n",
    "import scikitplot as skplt\n",
    "skplt.metrics.plot_roc(y_test, y_pred)\n",
    "plt.show()"
   ]
  }
 ],
 "metadata": {
  "kernelspec": {
   "display_name": "Python 3",
   "language": "python",
   "name": "python3"
  },
  "language_info": {
   "codemirror_mode": {
    "name": "ipython",
    "version": 3
   },
   "file_extension": ".py",
   "mimetype": "text/x-python",
   "name": "python",
   "nbconvert_exporter": "python",
   "pygments_lexer": "ipython3",
   "version": "3.7.3"
  }
 },
 "nbformat": 4,
 "nbformat_minor": 2
}
